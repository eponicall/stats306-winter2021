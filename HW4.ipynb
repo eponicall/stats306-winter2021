{
  "nbformat": 4,
  "nbformat_minor": 0,
  "metadata": {
    "colab": {
      "name": "HW4.ipynb",
      "provenance": [],
      "include_colab_link": true
    },
    "kernelspec": {
      "display_name": "R",
      "language": "R",
      "name": "ir"
    },
    "language_info": {
      "codemirror_mode": "r",
      "file_extension": ".r",
      "mimetype": "text/x-r-source",
      "name": "R",
      "pygments_lexer": "r",
      "version": "4.0.4"
    }
  },
  "cells": [
    {
      "cell_type": "markdown",
      "metadata": {
        "id": "view-in-github",
        "colab_type": "text"
      },
      "source": [
        "<a href=\"https://colab.research.google.com/github/eponicall/stats306-winter2021/blob/main/HW4.ipynb\" target=\"_parent\"><img src=\"https://colab.research.google.com/assets/colab-badge.svg\" alt=\"Open In Colab\"/></a>"
      ]
    },
    {
      "cell_type": "markdown",
      "metadata": {
        "id": "2KRyy01aXRV6"
      },
      "source": [
        "## STATS 306 WI 2021, HW 4, _20 points_\n",
        "\n",
        "Assigned: 03/18/2021\n",
        "\n",
        "Due: 03/26/2021  \n",
        "For full credit, your canvas upload needs to occur by 3:00 am EST on 03/27/2021."
      ]
    },
    {
      "cell_type": "markdown",
      "metadata": {
        "id": "ERLNuISbXRWA"
      },
      "source": [
        "### Instructions"
      ]
    },
    {
      "cell_type": "markdown",
      "metadata": {
        "id": "5LmebnZ2XRWB"
      },
      "source": [
        "* Before you submit the problem set, make sure everything runs as expected. Go to the menu bar at the top of Jupyter Notebook and click `Kernel > Restart & Run All` . Equivalently in Colab, `Runtime > Restart & Run All`. Your code should run from top to bottom with no errors. Failure to do this will result in loss of points.\n",
        "\n",
        "* Each problem has their own answer cell. Depending on the problem, the answer cell is a Markdown cell (to type text answers) or a Code cell (to type R code). Please write your answer in the designated cell. If you want to add addtional cells make sure to add them just below the designated cell.\n",
        "\n",
        "* After you done with running your code, use `Ctrl` or `⌘` + `p` then click `save as pdf` to save your homework as pdf file. Do not use pdf exporter feature of jupyter! You are not going to upload your `.ipynb` file, we just need the `.pdf`. It is your responsibility to ensure that your answers are clearly visible in the pdf file you upload to Canvas.\n",
        "\n",
        "* Use Slack `#hw4` channel to discuss the problems and ask for clarifications. **But please be careful not to post an answer or part of an answer**. Doing so may result in loss of points and/or disqualification from submitting the homework.\n",
        "\n",
        "* **Late submissions will not be accepted** (unless there is a documented emergency)."
      ]
    },
    {
      "cell_type": "markdown",
      "metadata": {
        "id": "8aQaYzN4XRWC"
      },
      "source": [
        "### Required Packages"
      ]
    },
    {
      "cell_type": "code",
      "metadata": {
        "id": "jAHWvrp_XRWC"
      },
      "source": [
        "library(tidyverse)\n",
        "library(stringr)"
      ],
      "execution_count": 28,
      "outputs": []
    },
    {
      "cell_type": "markdown",
      "metadata": {
        "id": "kT9Vl45xXRWD"
      },
      "source": [
        "### Problem 1, _5 points_"
      ]
    },
    {
      "cell_type": "markdown",
      "metadata": {
        "id": "8Ovq42JAXRWE"
      },
      "source": [
        "**(1)** Create the following tibble using `tribble()`. You don't have to assign the created tibble to any variable. _1 point_\n",
        "\n",
        "```\n",
        "# A tibble: 6 x 2\n",
        "  time_zone UTC_offset\n",
        "  <chr>          <dbl>\n",
        "1 HST              -10\n",
        "2 AKST              -9\n",
        "3 PST               -8\n",
        "4 MST               -7\n",
        "5 CST               -6\n",
        "6 EST               -5\n",
        "```"
      ]
    },
    {
      "cell_type": "code",
      "metadata": {
        "id": "6E75WFkNXRWE",
        "colab": {
          "base_uri": "https://localhost:8080/",
          "height": 283
        },
        "outputId": "fe2023b1-ddeb-4611-a6cd-6b63f3d03272"
      },
      "source": [
        "tribble(\n",
        "  ~time_zone,~UTC_offset,\n",
        "#----|--\n",
        "\"HST\",-10,\n",
        "\"AKST\",-9,\n",
        "\"PST\",-8,\n",
        "\"MST\",-7,\n",
        "\"CST\",-6,\n",
        "\"EST\",-5)"
      ],
      "execution_count": 29,
      "outputs": [
        {
          "output_type": "display_data",
          "data": {
            "text/plain": [
              "  time_zone UTC_offset\n",
              "1 HST       -10       \n",
              "2 AKST       -9       \n",
              "3 PST        -8       \n",
              "4 MST        -7       \n",
              "5 CST        -6       \n",
              "6 EST        -5       "
            ],
            "text/latex": "A tibble: 6 × 2\n\\begin{tabular}{ll}\n time\\_zone & UTC\\_offset\\\\\n <chr> & <dbl>\\\\\n\\hline\n\t HST  & -10\\\\\n\t AKST &  -9\\\\\n\t PST  &  -8\\\\\n\t MST  &  -7\\\\\n\t CST  &  -6\\\\\n\t EST  &  -5\\\\\n\\end{tabular}\n",
            "text/markdown": "\nA tibble: 6 × 2\n\n| time_zone &lt;chr&gt; | UTC_offset &lt;dbl&gt; |\n|---|---|\n| HST  | -10 |\n| AKST |  -9 |\n| PST  |  -8 |\n| MST  |  -7 |\n| CST  |  -6 |\n| EST  |  -5 |\n\n",
            "text/html": [
              "<table class=\"dataframe\">\n",
              "<caption>A tibble: 6 × 2</caption>\n",
              "<thead>\n",
              "\t<tr><th scope=col>time_zone</th><th scope=col>UTC_offset</th></tr>\n",
              "\t<tr><th scope=col>&lt;chr&gt;</th><th scope=col>&lt;dbl&gt;</th></tr>\n",
              "</thead>\n",
              "<tbody>\n",
              "\t<tr><td>HST </td><td>-10</td></tr>\n",
              "\t<tr><td>AKST</td><td> -9</td></tr>\n",
              "\t<tr><td>PST </td><td> -8</td></tr>\n",
              "\t<tr><td>MST </td><td> -7</td></tr>\n",
              "\t<tr><td>CST </td><td> -6</td></tr>\n",
              "\t<tr><td>EST </td><td> -5</td></tr>\n",
              "</tbody>\n",
              "</table>\n"
            ]
          },
          "metadata": {
            "tags": []
          }
        }
      ]
    },
    {
      "cell_type": "markdown",
      "metadata": {
        "id": "_YWYcDox8b8B"
      },
      "source": [
        "**(2)** We have defined two vectors below, one with names of 9 countries and another with their time zone names."
      ]
    },
    {
      "cell_type": "code",
      "metadata": {
        "id": "kIZHuR4X8b8B"
      },
      "source": [
        "# DO NOT EDIT THIS CELL\n",
        "\n",
        "country <- c(\"Italy\", \"Greece\", \"Turkey\", \"Mauritius\", \"Pakistan\", \"Bangladesh\", \"Thailand\", \"Singapore\", \"Japan\")\n",
        "time_zone <- c(\"CET\", \"EET\", \"TRT\", \"MUT\", \"PKT\", \"BST\", \"THA\", \"SST\", \"JST\")"
      ],
      "execution_count": 30,
      "outputs": []
    },
    {
      "cell_type": "markdown",
      "metadata": {
        "id": "a9KWTf49Cjxw"
      },
      "source": [
        "Use the `tibble()` command to create the following tibble:\n",
        "```\n",
        "# A tibble: 9 x 3\n",
        "  country    time_zone UTC_offset\n",
        "  <chr>      <chr>          <int>\n",
        "1 Italy      CET                1\n",
        "2 Greece     EET                2\n",
        "3 Turkey     TRT                3\n",
        "4 Mauritius  MUT                4\n",
        "5 Pakistan   PKT                5\n",
        "6 Bangladesh BST                6\n",
        "7 Thailand   THA                7\n",
        "8 Singapore  SST                8\n",
        "9 Japan      JST                9\n",
        "```\n",
        "Note that the contents of the first two columns have to be pulled from the two vectors defined above whereas the third column has to be created by you directly. Again, you just need to create the tibble, not assign it to any variable. _2 points_"
      ]
    },
    {
      "cell_type": "code",
      "metadata": {
        "colab": {
          "base_uri": "https://localhost:8080/",
          "height": 376
        },
        "id": "VHNhIVjfCjxw",
        "outputId": "22f8dafb-1fb9-486e-a846-8cf87ab89de1"
      },
      "source": [
        "tibble(\n",
        "    country=country,\n",
        "    time_zone=time_zone,\n",
        "    UTC_offset=1:9\n",
        ")"
      ],
      "execution_count": 31,
      "outputs": [
        {
          "output_type": "display_data",
          "data": {
            "text/plain": [
              "  country    time_zone UTC_offset\n",
              "1 Italy      CET       1         \n",
              "2 Greece     EET       2         \n",
              "3 Turkey     TRT       3         \n",
              "4 Mauritius  MUT       4         \n",
              "5 Pakistan   PKT       5         \n",
              "6 Bangladesh BST       6         \n",
              "7 Thailand   THA       7         \n",
              "8 Singapore  SST       8         \n",
              "9 Japan      JST       9         "
            ],
            "text/latex": "A tibble: 9 × 3\n\\begin{tabular}{lll}\n country & time\\_zone & UTC\\_offset\\\\\n <chr> & <chr> & <int>\\\\\n\\hline\n\t Italy      & CET & 1\\\\\n\t Greece     & EET & 2\\\\\n\t Turkey     & TRT & 3\\\\\n\t Mauritius  & MUT & 4\\\\\n\t Pakistan   & PKT & 5\\\\\n\t Bangladesh & BST & 6\\\\\n\t Thailand   & THA & 7\\\\\n\t Singapore  & SST & 8\\\\\n\t Japan      & JST & 9\\\\\n\\end{tabular}\n",
            "text/markdown": "\nA tibble: 9 × 3\n\n| country &lt;chr&gt; | time_zone &lt;chr&gt; | UTC_offset &lt;int&gt; |\n|---|---|---|\n| Italy      | CET | 1 |\n| Greece     | EET | 2 |\n| Turkey     | TRT | 3 |\n| Mauritius  | MUT | 4 |\n| Pakistan   | PKT | 5 |\n| Bangladesh | BST | 6 |\n| Thailand   | THA | 7 |\n| Singapore  | SST | 8 |\n| Japan      | JST | 9 |\n\n",
            "text/html": [
              "<table class=\"dataframe\">\n",
              "<caption>A tibble: 9 × 3</caption>\n",
              "<thead>\n",
              "\t<tr><th scope=col>country</th><th scope=col>time_zone</th><th scope=col>UTC_offset</th></tr>\n",
              "\t<tr><th scope=col>&lt;chr&gt;</th><th scope=col>&lt;chr&gt;</th><th scope=col>&lt;int&gt;</th></tr>\n",
              "</thead>\n",
              "<tbody>\n",
              "\t<tr><td>Italy     </td><td>CET</td><td>1</td></tr>\n",
              "\t<tr><td>Greece    </td><td>EET</td><td>2</td></tr>\n",
              "\t<tr><td>Turkey    </td><td>TRT</td><td>3</td></tr>\n",
              "\t<tr><td>Mauritius </td><td>MUT</td><td>4</td></tr>\n",
              "\t<tr><td>Pakistan  </td><td>PKT</td><td>5</td></tr>\n",
              "\t<tr><td>Bangladesh</td><td>BST</td><td>6</td></tr>\n",
              "\t<tr><td>Thailand  </td><td>THA</td><td>7</td></tr>\n",
              "\t<tr><td>Singapore </td><td>SST</td><td>8</td></tr>\n",
              "\t<tr><td>Japan     </td><td>JST</td><td>9</td></tr>\n",
              "</tbody>\n",
              "</table>\n"
            ]
          },
          "metadata": {
            "tags": []
          }
        }
      ]
    },
    {
      "cell_type": "markdown",
      "metadata": {
        "id": "Fjrswyp28b8C"
      },
      "source": [
        "**(3)** All the time zones that STATS 306 students posted in the `#time-zones` slack channel are stored in a file at this URL:"
      ]
    },
    {
      "cell_type": "code",
      "metadata": {
        "id": "hcqP_fXPCjxx"
      },
      "source": [
        "# DO NOT EDIT THIS CELL\n",
        "\n",
        "tz_url <- 'https://raw.githubusercontent.com/ambujtewari/stats306-winter2021/main/data/all_tz.csv'"
      ],
      "execution_count": 32,
      "outputs": []
    },
    {
      "cell_type": "markdown",
      "metadata": {
        "id": "MAevbNAICjxx"
      },
      "source": [
        "Import data in this file using `read_csv` into a tibble `tz`. Make sure to display the first few rows of the tibble using the `head()` command and ensure that it has one column named `UTC_offset`. _1 point_"
      ]
    },
    {
      "cell_type": "code",
      "metadata": {
        "colab": {
          "base_uri": "https://localhost:8080/",
          "height": 283
        },
        "id": "AomdAdr1Cjxx",
        "outputId": "9c56ce4f-0256-4e5b-8555-eabf41404888"
      },
      "source": [
        "tz<-read.csv(url(tz_url))\n",
        "head(tz)"
      ],
      "execution_count": 33,
      "outputs": [
        {
          "output_type": "display_data",
          "data": {
            "text/plain": [
              "  UTC_offset\n",
              "1 -5        \n",
              "2 -5        \n",
              "3 -5        \n",
              "4 -5        \n",
              "5 -5        \n",
              "6 -5        "
            ],
            "text/latex": "A data.frame: 6 × 1\n\\begin{tabular}{r|l}\n  & UTC\\_offset\\\\\n  & <dbl>\\\\\n\\hline\n\t1 & -5\\\\\n\t2 & -5\\\\\n\t3 & -5\\\\\n\t4 & -5\\\\\n\t5 & -5\\\\\n\t6 & -5\\\\\n\\end{tabular}\n",
            "text/markdown": "\nA data.frame: 6 × 1\n\n| <!--/--> | UTC_offset &lt;dbl&gt; |\n|---|---|\n| 1 | -5 |\n| 2 | -5 |\n| 3 | -5 |\n| 4 | -5 |\n| 5 | -5 |\n| 6 | -5 |\n\n",
            "text/html": [
              "<table class=\"dataframe\">\n",
              "<caption>A data.frame: 6 × 1</caption>\n",
              "<thead>\n",
              "\t<tr><th></th><th scope=col>UTC_offset</th></tr>\n",
              "\t<tr><th></th><th scope=col>&lt;dbl&gt;</th></tr>\n",
              "</thead>\n",
              "<tbody>\n",
              "\t<tr><th scope=row>1</th><td>-5</td></tr>\n",
              "\t<tr><th scope=row>2</th><td>-5</td></tr>\n",
              "\t<tr><th scope=row>3</th><td>-5</td></tr>\n",
              "\t<tr><th scope=row>4</th><td>-5</td></tr>\n",
              "\t<tr><th scope=row>5</th><td>-5</td></tr>\n",
              "\t<tr><th scope=row>6</th><td>-5</td></tr>\n",
              "</tbody>\n",
              "</table>\n"
            ]
          },
          "metadata": {
            "tags": []
          }
        }
      ]
    },
    {
      "cell_type": "markdown",
      "metadata": {
        "id": "7N6NLJ1VCjxx"
      },
      "source": [
        "**(4)** Using the `tz` tibble above, make a bar chart of UTC offsets of the time zones of STATS 306 students this semester. _1 point_"
      ]
    },
    {
      "cell_type": "code",
      "metadata": {
        "colab": {
          "base_uri": "https://localhost:8080/",
          "height": 437
        },
        "id": "TZIKGRfXCjxx",
        "outputId": "97903b3e-2b9e-4064-9b7d-e27cb5adf823"
      },
      "source": [
        "tz%>%\n",
        "  ggplot()+geom_bar(mapping=aes(UTC_offset))"
      ],
      "execution_count": 34,
      "outputs": [
        {
          "output_type": "display_data",
          "data": {
            "image/png": "[encoded data removed]",
            "text/plain": [
              "plot without title"
            ]
          },
          "metadata": {
            "tags": [],
            "image/png": {
              "width": 420,
              "height": 420
            }
          }
        }
      ]
    },
    {
      "cell_type": "markdown",
      "metadata": {
        "id": "d8Oa7FORXRWG"
      },
      "source": [
        "### Problem 2, _5 points_"
      ]
    },
    {
      "cell_type": "markdown",
      "metadata": {
        "id": "nnnBpZ1CXRWH"
      },
      "source": [
        "**(1)** The average life expectancies of countries for various years are stored in a file at the URL below:"
      ]
    },
    {
      "cell_type": "code",
      "metadata": {
        "id": "mrwQAfGUCjxy"
      },
      "source": [
        "# DO NOT EDIT THIS CELL\n",
        "\n",
        "life_url <- 'https://raw.githubusercontent.com/ambujtewari/stats306-winter2021/main/data/life_expectancy_years.csv'"
      ],
      "execution_count": 35,
      "outputs": []
    },
    {
      "cell_type": "markdown",
      "metadata": {
        "id": "NtDvg7mUCjxy"
      },
      "source": [
        "Import the file and keep only the columns `country` and `2010` through `2021`. Then use `pivot_longer` to move the years in a column called `year` and the values into a column named `life_expectancy`. Additionally, change the `year` column to be of type integer using `as.integer()`. This final tibble, which is in tidy format, should be stored in a variable named `life`. Make sure to display the first few rows of `life` using `head()`. _4 points_"
      ]
    },
    {
      "cell_type": "code",
      "metadata": {
        "id": "wShY82j4XRWH",
        "colab": {
          "base_uri": "https://localhost:8080/",
          "height": 283
        },
        "outputId": "ac4e01f4-9cbe-459a-ba23-dfc3f94610bd"
      },
      "source": [
        "life<-read.csv(url(life_url))\n",
        "life<-life%>%\n",
        "  select(country,X2010:X2021)%>%\n",
        "  pivot_longer(c(X2010:X2021),names_to=\"year\",values_to=\"life_expectancy\")%>%\n",
        "  mutate(year = as.integer(str_replace(year, \"X\", \"\")))\n",
        "head(life)"
      ],
      "execution_count": 36,
      "outputs": [
        {
          "output_type": "display_data",
          "data": {
            "text/plain": [
              "  country     year life_expectancy\n",
              "1 Afghanistan 2010 59.9           \n",
              "2 Afghanistan 2011 60.4           \n",
              "3 Afghanistan 2012 60.8           \n",
              "4 Afghanistan 2013 61.3           \n",
              "5 Afghanistan 2014 61.2           \n",
              "6 Afghanistan 2015 61.2           "
            ],
            "text/latex": "A tibble: 6 × 3\n\\begin{tabular}{lll}\n country & year & life\\_expectancy\\\\\n <chr> & <int> & <dbl>\\\\\n\\hline\n\t Afghanistan & 2010 & 59.9\\\\\n\t Afghanistan & 2011 & 60.4\\\\\n\t Afghanistan & 2012 & 60.8\\\\\n\t Afghanistan & 2013 & 61.3\\\\\n\t Afghanistan & 2014 & 61.2\\\\\n\t Afghanistan & 2015 & 61.2\\\\\n\\end{tabular}\n",
            "text/markdown": "\nA tibble: 6 × 3\n\n| country &lt;chr&gt; | year &lt;int&gt; | life_expectancy &lt;dbl&gt; |\n|---|---|---|\n| Afghanistan | 2010 | 59.9 |\n| Afghanistan | 2011 | 60.4 |\n| Afghanistan | 2012 | 60.8 |\n| Afghanistan | 2013 | 61.3 |\n| Afghanistan | 2014 | 61.2 |\n| Afghanistan | 2015 | 61.2 |\n\n",
            "text/html": [
              "<table class=\"dataframe\">\n",
              "<caption>A tibble: 6 × 3</caption>\n",
              "<thead>\n",
              "\t<tr><th scope=col>country</th><th scope=col>year</th><th scope=col>life_expectancy</th></tr>\n",
              "\t<tr><th scope=col>&lt;chr&gt;</th><th scope=col>&lt;int&gt;</th><th scope=col>&lt;dbl&gt;</th></tr>\n",
              "</thead>\n",
              "<tbody>\n",
              "\t<tr><td>Afghanistan</td><td>2010</td><td>59.9</td></tr>\n",
              "\t<tr><td>Afghanistan</td><td>2011</td><td>60.4</td></tr>\n",
              "\t<tr><td>Afghanistan</td><td>2012</td><td>60.8</td></tr>\n",
              "\t<tr><td>Afghanistan</td><td>2013</td><td>61.3</td></tr>\n",
              "\t<tr><td>Afghanistan</td><td>2014</td><td>61.2</td></tr>\n",
              "\t<tr><td>Afghanistan</td><td>2015</td><td>61.2</td></tr>\n",
              "</tbody>\n",
              "</table>\n"
            ]
          },
          "metadata": {
            "tags": []
          }
        }
      ]
    },
    {
      "cell_type": "markdown",
      "metadata": {
        "id": "O7r3XWE6XRWH"
      },
      "source": [
        "**(2)** Using `life` as a starting point, create a line plot (using `geom_line()`) of `life_expectancy` on the y-axis versus `year` on the x-axis for Canada, United States, and Mexico. Make sure each country's line is in a different color. _1 point_"
      ]
    },
    {
      "cell_type": "code",
      "metadata": {
        "id": "_TYfdZplXRWH",
        "colab": {
          "base_uri": "https://localhost:8080/",
          "height": 437
        },
        "outputId": "b028e58b-6b99-4b57-8a2f-caecc75871f0"
      },
      "source": [
        "life%>%\n",
        "  filter(country==c(\"Canada\",\"United States\",\"Mexico\"))%>%\n",
        "  ggplot()+geom_line(mapping=aes(x=year,y=life_expectancy,color=country))"
      ],
      "execution_count": 37,
      "outputs": [
        {
          "output_type": "display_data",
          "data": {
            "image/png": "[encoded data removed]",
            "text/plain": [
              "plot without title"
            ]
          },
          "metadata": {
            "tags": [],
            "image/png": {
              "width": 420,
              "height": 420
            }
          }
        }
      ]
    },
    {
      "cell_type": "markdown",
      "metadata": {
        "id": "dgC_Tg_lXRWI"
      },
      "source": [
        "### Problem 3, _5 points_"
      ]
    },
    {
      "cell_type": "markdown",
      "metadata": {
        "id": "ZzxrsYjnXRWI"
      },
      "source": [
        "**(1)** Let us use the `life` tibble from the previous problem again. Using a single chain of piped commands, create a vector (not a tibble) `has_missing` that contains the names of the countries with at least one missing value for `life_expectancy`. Your command should manipulate tibbles all the way to the end where you should extract exactly one column from the tibble as a vector and store the result in the variable `has_missing`. _3 points_"
      ]
    },
    {
      "cell_type": "code",
      "metadata": {
        "id": "7c4gvU81XRWI"
      },
      "source": [
        "\n",
        "  has_missing<-life%>%\n",
        "    filter(is.na(life_expectancy))%>%\n",
        "    pivot_wider(names_from=year,values_from=life_expectancy)%>%\n",
        "    .$country\n"
      ],
      "execution_count": 38,
      "outputs": []
    },
    {
      "cell_type": "markdown",
      "metadata": {
        "id": "hfguI9AWCjxz"
      },
      "source": [
        "The code below ensures that the vector `has_missing` gets displayed for grading purposes. Don't change it!"
      ]
    },
    {
      "cell_type": "code",
      "metadata": {
        "id": "Xfzl-w0iCjxz",
        "colab": {
          "base_uri": "https://localhost:8080/",
          "height": 34
        },
        "outputId": "83f5c6ef-03a3-4305-c3bd-8d54202d0c18"
      },
      "source": [
        "# DO NOT EDIT THIS CELL\n",
        "\n",
        "has_missing"
      ],
      "execution_count": 39,
      "outputs": [
        {
          "output_type": "display_data",
          "data": {
            "text/plain": [
              "[1] \"Andorra\"          \"Dominica\"         \"Marshall Islands\""
            ],
            "text/latex": "\\begin{enumerate*}\n\\item 'Andorra'\n\\item 'Dominica'\n\\item 'Marshall Islands'\n\\end{enumerate*}\n",
            "text/markdown": "1. 'Andorra'\n2. 'Dominica'\n3. 'Marshall Islands'\n\n\n",
            "text/html": [
              "<style>\n",
              ".list-inline {list-style: none; margin:0; padding: 0}\n",
              ".list-inline>li {display: inline-block}\n",
              ".list-inline>li:not(:last-child)::after {content: \"\\00b7\"; padding: 0 .5ex}\n",
              "</style>\n",
              "<ol class=list-inline><li>'Andorra'</li><li>'Dominica'</li><li>'Marshall Islands'</li></ol>\n"
            ]
          },
          "metadata": {
            "tags": []
          }
        }
      ]
    },
    {
      "cell_type": "markdown",
      "metadata": {
        "id": "nfskWNiYXRWI"
      },
      "source": [
        "**(2)** For all countries in `has_missing`, fill in the missing values using tbe last observation carry forward method. Then create a line plot using `geom_line` with `year` on x-axis, `life_expectancy` on y-axis. Make sure the lines representing data from the different countries are in different colors. _2 points_"
      ]
    },
    {
      "cell_type": "code",
      "metadata": {
        "id": "xHPe9nuQXRWJ",
        "colab": {
          "base_uri": "https://localhost:8080/",
          "height": 437
        },
        "outputId": "925d0665-0b01-4e4f-b760-2f5fa962a8ca"
      },
      "source": [
        "life%>%\n",
        "  filter(country==c(\"Andorra\",\"Dominica\",\"Marshall Islands\"))%>%\n",
        "  fill(life_expectancy)%>%\n",
        "  ggplot()+geom_line(mapping=aes(x=year,y=life_expectancy,color=country))\n",
        "\n",
        "\n"
      ],
      "execution_count": 40,
      "outputs": [
        {
          "output_type": "display_data",
          "data": {
            "image/png": "[encoded data removed]",
            "text/plain": [
              "plot without title"
            ]
          },
          "metadata": {
            "tags": [],
            "image/png": {
              "width": 420,
              "height": 420
            }
          }
        }
      ]
    },
    {
      "cell_type": "markdown",
      "metadata": {
        "id": "FinhV5JwXRWJ"
      },
      "source": [
        "### Problem 4, _5 points_"
      ]
    },
    {
      "cell_type": "markdown",
      "metadata": {
        "id": "plQCNqjpCjx0"
      },
      "source": [
        "**(1)** Create a string and assign to the variable `cat` such that `writeLines(cat)` displays the following: _2 points_\n",
        "```\n",
        "  |\\_/|\n",
        " / 0 0 \\\n",
        "( > o < )\n",
        " '>>x<<'\n",
        " /  \"  \\\n",
        "```"
      ]
    },
    {
      "cell_type": "code",
      "metadata": {
        "id": "SAKbRs3cCjx0"
      },
      "source": [
        "cat<-c(\"  |\\\\_/|\",\" / 0 0 \\\\\",\"( > o < )\",\" '>>x<<'\",\" /  \\\"  \\\\\")"
      ],
      "execution_count": 41,
      "outputs": []
    },
    {
      "cell_type": "code",
      "metadata": {
        "id": "6QlU7UKECjx1",
        "colab": {
          "base_uri": "https://localhost:8080/",
          "height": 0
        },
        "outputId": "b52463b4-ef15-4899-878b-1179b07010e5"
      },
      "source": [
        "# DO NOT EDIT THIS CELL\n",
        "\n",
        "writeLines(cat)"
      ],
      "execution_count": 42,
      "outputs": [
        {
          "output_type": "stream",
          "text": [
            "  |\\_/|\n",
            " / 0 0 \\\n",
            "( > o < )\n",
            " '>>x<<'\n",
            " /  \"  \\\n"
          ],
          "name": "stdout"
        }
      ]
    },
    {
      "cell_type": "markdown",
      "metadata": {
        "id": "o487_M16Cjx1"
      },
      "source": [
        "**(2)** Create a tibble using `tribble()` called `stat_courses` that prints as follows: _1 point_\n",
        "```\n",
        "# A tibble: 14 x 2\n",
        "   course_number course_name                 \n",
        "   <chr>         <chr>                       \n",
        " 1 206           Intro Data Science          \n",
        " 2 250           Intro Stat and Data Analysis\n",
        " 3 306           Statistical Computing       \n",
        " 4 401           Applied Stat Methods II     \n",
        " 5 406           Computational Methods       \n",
        " 6 412           Intro Prob Stat             \n",
        " 7 413           Applied Regression          \n",
        " 8 415           Data Mining                 \n",
        " 9 425           Intro Probability           \n",
        "10 426           Intro to Theo Stat          \n",
        "11 430           Applied Probability         \n",
        "12 449           Topics in Biostat           \n",
        "13 480           Survey Sampling             \n",
        "14 485           Capstone Seminar         \n",
        "```"
      ]
    },
    {
      "cell_type": "code",
      "metadata": {
        "id": "aMO2OlXMCjx1"
      },
      "source": [
        "stat_courses<-tribble(~course_number, ~course_name,\n",
        "#---|-----------\n",
        "\"206\",\"Intro Data Science\",\n",
        "\"250\",\"Intro Stat and Data Analysis\",\n",
        "\"306\",\"Statistical Computing\",\n",
        "\"401\",\"Applied Stat Methods II\",\n",
        "\"406\",\"Computational Methods\",\n",
        "\"412\",\"Intro Prob Stat\",\n",
        "\"413\",\"Applied Regression\",\n",
        "\"415\",\"Data Mining\",\n",
        "\"425\",\"Intro Probability\",\n",
        "\"426\",\"Intro to Theo Stat\",\n",
        "\"430\",\"Applied Probability\",\n",
        "\"449\",\"Topics in Biostat\",\n",
        "\"480\",\"Survey Sampling\",\n",
        "\"485\",\"Capstone Seminar\")"
      ],
      "execution_count": 43,
      "outputs": []
    },
    {
      "cell_type": "code",
      "metadata": {
        "colab": {
          "base_uri": "https://localhost:8080/",
          "height": 531
        },
        "id": "dhL9kkXNCjx1",
        "outputId": "d83bfddd-9393-440a-a9cc-fc2a53599e8a"
      },
      "source": [
        "# DO NOT EDIT THIS CELL\n",
        "\n",
        "stat_courses"
      ],
      "execution_count": 44,
      "outputs": [
        {
          "output_type": "display_data",
          "data": {
            "text/plain": [
              "   course_number course_name                 \n",
              "1  206           Intro Data Science          \n",
              "2  250           Intro Stat and Data Analysis\n",
              "3  306           Statistical Computing       \n",
              "4  401           Applied Stat Methods II     \n",
              "5  406           Computational Methods       \n",
              "6  412           Intro Prob Stat             \n",
              "7  413           Applied Regression          \n",
              "8  415           Data Mining                 \n",
              "9  425           Intro Probability           \n",
              "10 426           Intro to Theo Stat          \n",
              "11 430           Applied Probability         \n",
              "12 449           Topics in Biostat           \n",
              "13 480           Survey Sampling             \n",
              "14 485           Capstone Seminar            "
            ],
            "text/latex": "A tibble: 14 × 2\n\\begin{tabular}{ll}\n course\\_number & course\\_name\\\\\n <chr> & <chr>\\\\\n\\hline\n\t 206 & Intro Data Science          \\\\\n\t 250 & Intro Stat and Data Analysis\\\\\n\t 306 & Statistical Computing       \\\\\n\t 401 & Applied Stat Methods II     \\\\\n\t 406 & Computational Methods       \\\\\n\t 412 & Intro Prob Stat             \\\\\n\t 413 & Applied Regression          \\\\\n\t 415 & Data Mining                 \\\\\n\t 425 & Intro Probability           \\\\\n\t 426 & Intro to Theo Stat          \\\\\n\t 430 & Applied Probability         \\\\\n\t 449 & Topics in Biostat           \\\\\n\t 480 & Survey Sampling             \\\\\n\t 485 & Capstone Seminar            \\\\\n\\end{tabular}\n",
            "text/markdown": "\nA tibble: 14 × 2\n\n| course_number &lt;chr&gt; | course_name &lt;chr&gt; |\n|---|---|\n| 206 | Intro Data Science           |\n| 250 | Intro Stat and Data Analysis |\n| 306 | Statistical Computing        |\n| 401 | Applied Stat Methods II      |\n| 406 | Computational Methods        |\n| 412 | Intro Prob Stat              |\n| 413 | Applied Regression           |\n| 415 | Data Mining                  |\n| 425 | Intro Probability            |\n| 426 | Intro to Theo Stat           |\n| 430 | Applied Probability          |\n| 449 | Topics in Biostat            |\n| 480 | Survey Sampling              |\n| 485 | Capstone Seminar             |\n\n",
            "text/html": [
              "<table class=\"dataframe\">\n",
              "<caption>A tibble: 14 × 2</caption>\n",
              "<thead>\n",
              "\t<tr><th scope=col>course_number</th><th scope=col>course_name</th></tr>\n",
              "\t<tr><th scope=col>&lt;chr&gt;</th><th scope=col>&lt;chr&gt;</th></tr>\n",
              "</thead>\n",
              "<tbody>\n",
              "\t<tr><td>206</td><td>Intro Data Science          </td></tr>\n",
              "\t<tr><td>250</td><td>Intro Stat and Data Analysis</td></tr>\n",
              "\t<tr><td>306</td><td>Statistical Computing       </td></tr>\n",
              "\t<tr><td>401</td><td>Applied Stat Methods II     </td></tr>\n",
              "\t<tr><td>406</td><td>Computational Methods       </td></tr>\n",
              "\t<tr><td>412</td><td>Intro Prob Stat             </td></tr>\n",
              "\t<tr><td>413</td><td>Applied Regression          </td></tr>\n",
              "\t<tr><td>415</td><td>Data Mining                 </td></tr>\n",
              "\t<tr><td>425</td><td>Intro Probability           </td></tr>\n",
              "\t<tr><td>426</td><td>Intro to Theo Stat          </td></tr>\n",
              "\t<tr><td>430</td><td>Applied Probability         </td></tr>\n",
              "\t<tr><td>449</td><td>Topics in Biostat           </td></tr>\n",
              "\t<tr><td>480</td><td>Survey Sampling             </td></tr>\n",
              "\t<tr><td>485</td><td>Capstone Seminar            </td></tr>\n",
              "</tbody>\n",
              "</table>\n"
            ]
          },
          "metadata": {
            "tags": []
          }
        }
      ]
    },
    {
      "cell_type": "markdown",
      "metadata": {
        "id": "unIWCrckCjx2"
      },
      "source": [
        "**(3)** Change the column `course_number` so that the prefix `\"STATS \"` gets added to each course number. After this change, the tibble `stat_courses` should print as follows: _1 point_\n",
        "``` \n",
        "# A tibble: 14 x 2\n",
        "   course_number course_name                 \n",
        "   <chr>         <chr>                       \n",
        " 1 STATS 206     Intro Data Science          \n",
        " 2 STATS 250     Intro Stat and Data Analysis\n",
        " 3 STATS 306     Statistical Computing       \n",
        " 4 STATS 401     Applied Stat Methods II     \n",
        " 5 STATS 406     Computational Methods       \n",
        " 6 STATS 412     Intro Prob Stat             \n",
        " 7 STATS 413     Applied Regression          \n",
        " 8 STATS 415     Data Mining                 \n",
        " 9 STATS 425     Intro Probability           \n",
        "10 STATS 426     Intro to Theo Stat          \n",
        "11 STATS 430     Applied Probability         \n",
        "12 STATS 449     Topics in Biostat           \n",
        "13 STATS 480     Survey Sampling             \n",
        "14 STATS 485     Capstone Seminar      \n",
        "```"
      ]
    },
    {
      "cell_type": "code",
      "metadata": {
        "id": "4MONBxZoCjx2"
      },
      "source": [
        "stat_courses<-stat_courses%>%\n",
        "  mutate(course_number=str_c(\"STATS\", course_number,sep=\" \"))"
      ],
      "execution_count": 45,
      "outputs": []
    },
    {
      "cell_type": "code",
      "metadata": {
        "id": "M85mIsNoCjx2",
        "colab": {
          "base_uri": "https://localhost:8080/",
          "height": 531
        },
        "outputId": "b829f0dd-0392-4d36-e843-d27801c6077a"
      },
      "source": [
        " # DO NOT EDIT THIS CELL\n",
        "\n",
        "stat_courses"
      ],
      "execution_count": 46,
      "outputs": [
        {
          "output_type": "display_data",
          "data": {
            "text/plain": [
              "   course_number course_name                 \n",
              "1  STATS 206     Intro Data Science          \n",
              "2  STATS 250     Intro Stat and Data Analysis\n",
              "3  STATS 306     Statistical Computing       \n",
              "4  STATS 401     Applied Stat Methods II     \n",
              "5  STATS 406     Computational Methods       \n",
              "6  STATS 412     Intro Prob Stat             \n",
              "7  STATS 413     Applied Regression          \n",
              "8  STATS 415     Data Mining                 \n",
              "9  STATS 425     Intro Probability           \n",
              "10 STATS 426     Intro to Theo Stat          \n",
              "11 STATS 430     Applied Probability         \n",
              "12 STATS 449     Topics in Biostat           \n",
              "13 STATS 480     Survey Sampling             \n",
              "14 STATS 485     Capstone Seminar            "
            ],
            "text/latex": "A tibble: 14 × 2\n\\begin{tabular}{ll}\n course\\_number & course\\_name\\\\\n <chr> & <chr>\\\\\n\\hline\n\t STATS 206 & Intro Data Science          \\\\\n\t STATS 250 & Intro Stat and Data Analysis\\\\\n\t STATS 306 & Statistical Computing       \\\\\n\t STATS 401 & Applied Stat Methods II     \\\\\n\t STATS 406 & Computational Methods       \\\\\n\t STATS 412 & Intro Prob Stat             \\\\\n\t STATS 413 & Applied Regression          \\\\\n\t STATS 415 & Data Mining                 \\\\\n\t STATS 425 & Intro Probability           \\\\\n\t STATS 426 & Intro to Theo Stat          \\\\\n\t STATS 430 & Applied Probability         \\\\\n\t STATS 449 & Topics in Biostat           \\\\\n\t STATS 480 & Survey Sampling             \\\\\n\t STATS 485 & Capstone Seminar            \\\\\n\\end{tabular}\n",
            "text/markdown": "\nA tibble: 14 × 2\n\n| course_number &lt;chr&gt; | course_name &lt;chr&gt; |\n|---|---|\n| STATS 206 | Intro Data Science           |\n| STATS 250 | Intro Stat and Data Analysis |\n| STATS 306 | Statistical Computing        |\n| STATS 401 | Applied Stat Methods II      |\n| STATS 406 | Computational Methods        |\n| STATS 412 | Intro Prob Stat              |\n| STATS 413 | Applied Regression           |\n| STATS 415 | Data Mining                  |\n| STATS 425 | Intro Probability            |\n| STATS 426 | Intro to Theo Stat           |\n| STATS 430 | Applied Probability          |\n| STATS 449 | Topics in Biostat            |\n| STATS 480 | Survey Sampling              |\n| STATS 485 | Capstone Seminar             |\n\n",
            "text/html": [
              "<table class=\"dataframe\">\n",
              "<caption>A tibble: 14 × 2</caption>\n",
              "<thead>\n",
              "\t<tr><th scope=col>course_number</th><th scope=col>course_name</th></tr>\n",
              "\t<tr><th scope=col>&lt;chr&gt;</th><th scope=col>&lt;chr&gt;</th></tr>\n",
              "</thead>\n",
              "<tbody>\n",
              "\t<tr><td>STATS 206</td><td>Intro Data Science          </td></tr>\n",
              "\t<tr><td>STATS 250</td><td>Intro Stat and Data Analysis</td></tr>\n",
              "\t<tr><td>STATS 306</td><td>Statistical Computing       </td></tr>\n",
              "\t<tr><td>STATS 401</td><td>Applied Stat Methods II     </td></tr>\n",
              "\t<tr><td>STATS 406</td><td>Computational Methods       </td></tr>\n",
              "\t<tr><td>STATS 412</td><td>Intro Prob Stat             </td></tr>\n",
              "\t<tr><td>STATS 413</td><td>Applied Regression          </td></tr>\n",
              "\t<tr><td>STATS 415</td><td>Data Mining                 </td></tr>\n",
              "\t<tr><td>STATS 425</td><td>Intro Probability           </td></tr>\n",
              "\t<tr><td>STATS 426</td><td>Intro to Theo Stat          </td></tr>\n",
              "\t<tr><td>STATS 430</td><td>Applied Probability         </td></tr>\n",
              "\t<tr><td>STATS 449</td><td>Topics in Biostat           </td></tr>\n",
              "\t<tr><td>STATS 480</td><td>Survey Sampling             </td></tr>\n",
              "\t<tr><td>STATS 485</td><td>Capstone Seminar            </td></tr>\n",
              "</tbody>\n",
              "</table>\n"
            ]
          },
          "metadata": {
            "tags": []
          }
        }
      ]
    },
    {
      "cell_type": "markdown",
      "metadata": {
        "id": "PvgEC2fvCjx3"
      },
      "source": [
        "**(4)** Create a string and assign to the variable `drseuss` such that `writeLines(drseuss)` displays the following: _1 point_\n",
        "```\n",
        "\"You're off to Great Places!\n",
        "  Today is your day!\n",
        "   Your mountain is waiting,\n",
        "    So... get on your way!\"\n",
        "-Dr. Seuss, Oh, the Places You'll Go!\n",
        "```"
      ]
    },
    {
      "cell_type": "code",
      "metadata": {
        "id": "GS97qDyjCjx3"
      },
      "source": [
        "drseuss<-\"\\\"You're off to Great Places!\\n\\tToday is your day!\\n\\t\\tYour mountain is waiting,\\n\\t\\t\\tSo...get on your way!\\\"\\n-Dr. Seuss, Oh, the Places You'll Go!\""
      ],
      "execution_count": 47,
      "outputs": []
    },
    {
      "cell_type": "code",
      "metadata": {
        "id": "9eT4H_haCjx3",
        "colab": {
          "base_uri": "https://localhost:8080/",
          "height": 0
        },
        "outputId": "fcd7f62e-c6fe-4dd5-d337-ed96fb943218"
      },
      "source": [
        "# DO NOT EDIT THIS CELL\n",
        "\n",
        "writeLines(drseuss)"
      ],
      "execution_count": 48,
      "outputs": [
        {
          "output_type": "stream",
          "text": [
            "\"You're off to Great Places!\n",
            "\tToday is your day!\n",
            "\t\tYour mountain is waiting,\n",
            "\t\t\tSo...get on your way!\"\n",
            "-Dr. Seuss, Oh, the Places You'll Go!\n"
          ],
          "name": "stdout"
        }
      ]
    }
  ]
}